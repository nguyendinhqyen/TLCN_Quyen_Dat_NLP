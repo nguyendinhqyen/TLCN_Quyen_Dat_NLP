{
 "cells": [
  {
   "cell_type": "markdown",
   "metadata": {},
   "source": [
    "# 15110115 Nguyễn Đình Quyền\n",
    "# Các tổ hợp phím thông dụng \n",
    "\n",
    "* Phím ESC để vào Command mode (gõ lệnh) \n",
    "    - Esc + m : biến cell hiện tại thành markdown cell \n",
    "    - Esc + y : biến cell hiện tại thành code cell\n",
    "    - Esc + b : Thêm một cell mới bên dưới \n",
    "* Excecute mode ( thực hiện)\n",
    "    - Ctrl + Enter thực hiện Cell\n",
    "    - Shift + Enter : thực hiện cell , và có thể thêm một code cell mới bên dưới \n",
    "* Click đúp hoặc ấn Enter vào Cell để chỉnh sửa( edit mode)"
   ]
  },
  {
   "cell_type": "code",
   "execution_count": 1,
   "metadata": {},
   "outputs": [],
   "source": [
    "import numpy as np\n",
    "import matplotlib.pyplot as plt \n",
    "import math"
   ]
  },
  {
   "cell_type": "markdown",
   "metadata": {},
   "source": [
    "# 1. Viết phương trình V(t)"
   ]
  },
  {
   "cell_type": "markdown",
   "metadata": {},
   "source": [
    "$$V(t)=V_0sin(2{\\pi}t)$$\n",
    "$$ V_0=170 V, t=0..2s $$"
   ]
  },
  {
   "cell_type": "markdown",
   "metadata": {},
   "source": [
    "# 2.Khởi tạo dữ liệu bằng numpy"
   ]
  },
  {
   "cell_type": "code",
   "execution_count": 2,
   "metadata": {},
   "outputs": [],
   "source": [
    "#Khởi tạo V0\n",
    "V0 = 170"
   ]
  },
  {
   "cell_type": "code",
   "execution_count": 3,
   "metadata": {},
   "outputs": [
    {
     "data": {
      "text/plain": [
       "array([0.  , 0.02, 0.04, 0.06, 0.08, 0.1 , 0.12, 0.14, 0.16, 0.18, 0.2 ,\n",
       "       0.22, 0.24, 0.26, 0.28, 0.3 , 0.32, 0.34, 0.36, 0.38, 0.4 , 0.42,\n",
       "       0.44, 0.46, 0.48, 0.5 , 0.52, 0.54, 0.56, 0.58, 0.6 , 0.62, 0.64,\n",
       "       0.66, 0.68, 0.7 , 0.72, 0.74, 0.76, 0.78, 0.8 , 0.82, 0.84, 0.86,\n",
       "       0.88, 0.9 , 0.92, 0.94, 0.96, 0.98, 1.  , 1.02, 1.04, 1.06, 1.08,\n",
       "       1.1 , 1.12, 1.14, 1.16, 1.18, 1.2 , 1.22, 1.24, 1.26, 1.28, 1.3 ,\n",
       "       1.32, 1.34, 1.36, 1.38, 1.4 , 1.42, 1.44, 1.46, 1.48, 1.5 , 1.52,\n",
       "       1.54, 1.56, 1.58, 1.6 , 1.62, 1.64, 1.66, 1.68, 1.7 , 1.72, 1.74,\n",
       "       1.76, 1.78, 1.8 , 1.82, 1.84, 1.86, 1.88, 1.9 , 1.92, 1.94, 1.96,\n",
       "       1.98])"
      ]
     },
     "execution_count": 3,
     "metadata": {},
     "output_type": "execute_result"
    }
   ],
   "source": [
    "#Khởi tạo dãy thời gian t là ts \n",
    "ts = np.arange(0, 2, 0.02)\n",
    "ts "
   ]
  },
  {
   "cell_type": "code",
   "execution_count": 4,
   "metadata": {
    "scrolled": true
   },
   "outputs": [
    {
     "data": {
      "text/plain": [
       "array([ 0.00000000e+00,  2.13066497e+01,  4.22772808e+01,  6.25811740e+01,\n",
       "        8.18981246e+01,  9.99234929e+01,  1.16373008e+02,  1.30987251e+02,\n",
       "        1.43535747e+02,  1.53820599e+02,  1.61679608e+02,  1.66988833e+02,\n",
       "        1.69664544e+02,  1.69664544e+02,  1.66988833e+02,  1.61679608e+02,\n",
       "        1.53820599e+02,  1.43535747e+02,  1.30987251e+02,  1.16373008e+02,\n",
       "        9.99234929e+01,  8.18981246e+01,  6.25811740e+01,  4.22772808e+01,\n",
       "        2.13066497e+01,  2.08189956e-14, -2.13066497e+01, -4.22772808e+01,\n",
       "       -6.25811740e+01, -8.18981246e+01, -9.99234929e+01, -1.16373008e+02,\n",
       "       -1.30987251e+02, -1.43535747e+02, -1.53820599e+02, -1.61679608e+02,\n",
       "       -1.66988833e+02, -1.69664544e+02, -1.69664544e+02, -1.66988833e+02,\n",
       "       -1.61679608e+02, -1.53820599e+02, -1.43535747e+02, -1.30987251e+02,\n",
       "       -1.16373008e+02, -9.99234929e+01, -8.18981246e+01, -6.25811740e+01,\n",
       "       -4.22772808e+01, -2.13066497e+01, -4.16379912e-14,  2.13066497e+01,\n",
       "        4.22772808e+01,  6.25811740e+01,  8.18981246e+01,  9.99234929e+01,\n",
       "        1.16373008e+02,  1.30987251e+02,  1.43535747e+02,  1.53820599e+02,\n",
       "        1.61679608e+02,  1.66988833e+02,  1.69664544e+02,  1.69664544e+02,\n",
       "        1.66988833e+02,  1.61679608e+02,  1.53820599e+02,  1.43535747e+02,\n",
       "        1.30987251e+02,  1.16373008e+02,  9.99234929e+01,  8.18981246e+01,\n",
       "        6.25811740e+01,  4.22772808e+01,  2.13066497e+01,  6.24569868e-14,\n",
       "       -2.13066497e+01, -4.22772808e+01, -6.25811740e+01, -8.18981246e+01,\n",
       "       -9.99234929e+01, -1.16373008e+02, -1.30987251e+02, -1.43535747e+02,\n",
       "       -1.53820599e+02, -1.61679608e+02, -1.66988833e+02, -1.69664544e+02,\n",
       "       -1.69664544e+02, -1.66988833e+02, -1.61679608e+02, -1.53820599e+02,\n",
       "       -1.43535747e+02, -1.30987251e+02, -1.16373008e+02, -9.99234929e+01,\n",
       "       -8.18981246e+01, -6.25811740e+01, -4.22772808e+01, -2.13066497e+01])"
      ]
     },
     "execution_count": 4,
     "metadata": {},
     "output_type": "execute_result"
    }
   ],
   "source": [
    "# Tính Vs\n",
    "# Vs = [ V0*math.sin(2*math.pi*t) for t in ts ]\n",
    "Vs = V0*np.sin(2*np.pi*ts)\n",
    "Vs"
   ]
  },
  {
   "cell_type": "markdown",
   "metadata": {},
   "source": [
    "# 3. Vẽ đồ thị bằng matplotlib"
   ]
  },
  {
   "cell_type": "code",
   "execution_count": 5,
   "metadata": {},
   "outputs": [
    {
     "name": "stdout",
     "output_type": "stream",
     "text": [
      "Số phần tử trong ts : 100\n",
      "Số phần tử trong vs : 100\n"
     ]
    },
    {
     "data": {
      "text/plain": [
       "True"
      ]
     },
     "execution_count": 5,
     "metadata": {},
     "output_type": "execute_result"
    }
   ],
   "source": [
    "#Kiểm tra phần tử của tsvà vs\n",
    "print(\"Số phần tử trong ts : {}\".format(ts.size))\n",
    "print(\"Số phần tử trong vs : {}\".format(Vs.size))\n",
    "ts.size == Vs.size"
   ]
  },
  {
   "cell_type": "code",
   "execution_count": 6,
   "metadata": {},
   "outputs": [
    {
     "data": {
      "image/png": "[encoded data removed]",
      "text/plain": [
       "<Figure size 432x288 with 1 Axes>"
      ]
     },
     "metadata": {
      "needs_background": "light"
     },
     "output_type": "display_data"
    }
   ],
   "source": [
    "fig, ax = plt.subplots()\n",
    "ax.set(xlabel = ' Thời gian (s)', ylabel = 'Hiệu điện thế (V)', title = 'Biến thiên hiệu điện thế theo thời gian')\n",
    "ax.plot(ts,Vs)\n",
    "ax.grid()"
   ]
  },
  {
   "cell_type": "code",
   "execution_count": null,
   "metadata": {},
   "outputs": [],
   "source": []
  }
 ],
 "metadata": {
  "kernelspec": {
   "display_name": "Python 3",
   "language": "python",
   "name": "python3"
  },
  "language_info": {
   "codemirror_mode": {
    "name": "ipython",
    "version": 3
   },
   "file_extension": ".py",
   "mimetype": "text/x-python",
   "name": "python",
   "nbconvert_exporter": "python",
   "pygments_lexer": "ipython3",
   "version": "3.7.0"
  }
 },
 "nbformat": 4,
 "nbformat_minor": 2
}
